{
 "cells": [
  {
   "cell_type": "markdown",
   "id": "89604b24",
   "metadata": {},
   "source": [
    "# **Credit Card Fraud Detection**"
   ]
  },
  {
   "cell_type": "markdown",
   "id": "5636dba9",
   "metadata": {},
   "source": [
    "### Importing of Libraries"
   ]
  },
  {
   "cell_type": "code",
   "execution_count": 1,
   "id": "40a5a656",
   "metadata": {},
   "outputs": [],
   "source": [
    "import pandas as pd\n",
    "import numpy as np\n",
    "import matplotlib.pyplot as plt\n",
    "import seaborn as sns\n",
    "from sklearn.preprocessing import LabelEncoder, OneHotEncoder, MinMaxScaler\n",
    "from sklearn.model_selection import train_test_split\n",
    "from sklearn.linear_model import LogisticRegression\n",
    "from sklearn.metrics import accuracy_score, confusion_matrix, plot_confusion_matrix, classification_report,recall_score, precision_score, f1_score"
   ]
  },
  {
   "cell_type": "markdown",
   "id": "aa84f1c6",
   "metadata": {},
   "source": [
    "## **Data Processing**"
   ]
  },
  {
   "cell_type": "markdown",
   "id": "46bcdfa6",
   "metadata": {},
   "source": [
    "### Reading of DataSet in Notebook"
   ]
  },
  {
   "cell_type": "code",
   "execution_count": 2,
   "id": "9e44e135",
   "metadata": {},
   "outputs": [],
   "source": [
    "df= pd.read_csv(r\"C:\\Users\\Garima\\Desktop\\Credit_Card_fraud\\credit card approvals (clean data)\\clean_dataset.csv\")"
   ]
  },
  {
   "cell_type": "markdown",
   "id": "66c86b8f",
   "metadata": {},
   "source": [
    "#### Shape of DataSet"
   ]
  },
  {
   "cell_type": "code",
   "execution_count": 3,
   "id": "479660e6",
   "metadata": {},
   "outputs": [
    {
     "data": {
      "text/plain": [
       "(690, 16)"
      ]
     },
     "execution_count": 3,
     "metadata": {},
     "output_type": "execute_result"
    }
   ],
   "source": [
    "df.shape"
   ]
  },
  {
   "cell_type": "markdown",
   "id": "d63846b8",
   "metadata": {},
   "source": [
    "#### Head and Tail Functions"
   ]
  },
  {
   "cell_type": "code",
   "execution_count": 4,
   "id": "f1db4bd6",
   "metadata": {},
   "outputs": [
    {
     "data": {
      "text/html": [
       "<div>\n",
       "<style scoped>\n",
       "    .dataframe tbody tr th:only-of-type {\n",
       "        vertical-align: middle;\n",
       "    }\n",
       "\n",
       "    .dataframe tbody tr th {\n",
       "        vertical-align: top;\n",
       "    }\n",
       "\n",
       "    .dataframe thead th {\n",
       "        text-align: right;\n",
       "    }\n",
       "</style>\n",
       "<table border=\"1\" class=\"dataframe\">\n",
       "  <thead>\n",
       "    <tr style=\"text-align: right;\">\n",
       "      <th></th>\n",
       "      <th>Gender</th>\n",
       "      <th>Age</th>\n",
       "      <th>Debt</th>\n",
       "      <th>Married</th>\n",
       "      <th>BankCustomer</th>\n",
       "      <th>Industry</th>\n",
       "      <th>Ethnicity</th>\n",
       "      <th>YearsEmployed</th>\n",
       "      <th>PriorDefault</th>\n",
       "      <th>Employed</th>\n",
       "      <th>CreditScore</th>\n",
       "      <th>DriversLicense</th>\n",
       "      <th>Citizen</th>\n",
       "      <th>ZipCode</th>\n",
       "      <th>Income</th>\n",
       "      <th>Approved</th>\n",
       "    </tr>\n",
       "  </thead>\n",
       "  <tbody>\n",
       "    <tr>\n",
       "      <th>0</th>\n",
       "      <td>1</td>\n",
       "      <td>30.83</td>\n",
       "      <td>0.000</td>\n",
       "      <td>1</td>\n",
       "      <td>1</td>\n",
       "      <td>Industrials</td>\n",
       "      <td>White</td>\n",
       "      <td>1.25</td>\n",
       "      <td>1</td>\n",
       "      <td>1</td>\n",
       "      <td>1</td>\n",
       "      <td>0</td>\n",
       "      <td>ByBirth</td>\n",
       "      <td>202</td>\n",
       "      <td>0</td>\n",
       "      <td>1</td>\n",
       "    </tr>\n",
       "    <tr>\n",
       "      <th>1</th>\n",
       "      <td>0</td>\n",
       "      <td>58.67</td>\n",
       "      <td>4.460</td>\n",
       "      <td>1</td>\n",
       "      <td>1</td>\n",
       "      <td>Materials</td>\n",
       "      <td>Black</td>\n",
       "      <td>3.04</td>\n",
       "      <td>1</td>\n",
       "      <td>1</td>\n",
       "      <td>6</td>\n",
       "      <td>0</td>\n",
       "      <td>ByBirth</td>\n",
       "      <td>43</td>\n",
       "      <td>560</td>\n",
       "      <td>1</td>\n",
       "    </tr>\n",
       "    <tr>\n",
       "      <th>2</th>\n",
       "      <td>0</td>\n",
       "      <td>24.50</td>\n",
       "      <td>0.500</td>\n",
       "      <td>1</td>\n",
       "      <td>1</td>\n",
       "      <td>Materials</td>\n",
       "      <td>Black</td>\n",
       "      <td>1.50</td>\n",
       "      <td>1</td>\n",
       "      <td>0</td>\n",
       "      <td>0</td>\n",
       "      <td>0</td>\n",
       "      <td>ByBirth</td>\n",
       "      <td>280</td>\n",
       "      <td>824</td>\n",
       "      <td>1</td>\n",
       "    </tr>\n",
       "    <tr>\n",
       "      <th>3</th>\n",
       "      <td>1</td>\n",
       "      <td>27.83</td>\n",
       "      <td>1.540</td>\n",
       "      <td>1</td>\n",
       "      <td>1</td>\n",
       "      <td>Industrials</td>\n",
       "      <td>White</td>\n",
       "      <td>3.75</td>\n",
       "      <td>1</td>\n",
       "      <td>1</td>\n",
       "      <td>5</td>\n",
       "      <td>1</td>\n",
       "      <td>ByBirth</td>\n",
       "      <td>100</td>\n",
       "      <td>3</td>\n",
       "      <td>1</td>\n",
       "    </tr>\n",
       "    <tr>\n",
       "      <th>4</th>\n",
       "      <td>1</td>\n",
       "      <td>20.17</td>\n",
       "      <td>5.625</td>\n",
       "      <td>1</td>\n",
       "      <td>1</td>\n",
       "      <td>Industrials</td>\n",
       "      <td>White</td>\n",
       "      <td>1.71</td>\n",
       "      <td>1</td>\n",
       "      <td>0</td>\n",
       "      <td>0</td>\n",
       "      <td>0</td>\n",
       "      <td>ByOtherMeans</td>\n",
       "      <td>120</td>\n",
       "      <td>0</td>\n",
       "      <td>1</td>\n",
       "    </tr>\n",
       "  </tbody>\n",
       "</table>\n",
       "</div>"
      ],
      "text/plain": [
       "   Gender    Age   Debt  Married  BankCustomer     Industry Ethnicity  \\\n",
       "0       1  30.83  0.000        1             1  Industrials     White   \n",
       "1       0  58.67  4.460        1             1    Materials     Black   \n",
       "2       0  24.50  0.500        1             1    Materials     Black   \n",
       "3       1  27.83  1.540        1             1  Industrials     White   \n",
       "4       1  20.17  5.625        1             1  Industrials     White   \n",
       "\n",
       "   YearsEmployed  PriorDefault  Employed  CreditScore  DriversLicense  \\\n",
       "0           1.25             1         1            1               0   \n",
       "1           3.04             1         1            6               0   \n",
       "2           1.50             1         0            0               0   \n",
       "3           3.75             1         1            5               1   \n",
       "4           1.71             1         0            0               0   \n",
       "\n",
       "        Citizen  ZipCode  Income  Approved  \n",
       "0       ByBirth      202       0         1  \n",
       "1       ByBirth       43     560         1  \n",
       "2       ByBirth      280     824         1  \n",
       "3       ByBirth      100       3         1  \n",
       "4  ByOtherMeans      120       0         1  "
      ]
     },
     "execution_count": 4,
     "metadata": {},
     "output_type": "execute_result"
    }
   ],
   "source": [
    "df.head()"
   ]
  },
  {
   "cell_type": "code",
   "execution_count": 5,
   "id": "893d5b42",
   "metadata": {},
   "outputs": [
    {
     "data": {
      "text/html": [
       "<div>\n",
       "<style scoped>\n",
       "    .dataframe tbody tr th:only-of-type {\n",
       "        vertical-align: middle;\n",
       "    }\n",
       "\n",
       "    .dataframe tbody tr th {\n",
       "        vertical-align: top;\n",
       "    }\n",
       "\n",
       "    .dataframe thead th {\n",
       "        text-align: right;\n",
       "    }\n",
       "</style>\n",
       "<table border=\"1\" class=\"dataframe\">\n",
       "  <thead>\n",
       "    <tr style=\"text-align: right;\">\n",
       "      <th></th>\n",
       "      <th>Gender</th>\n",
       "      <th>Age</th>\n",
       "      <th>Debt</th>\n",
       "      <th>Married</th>\n",
       "      <th>BankCustomer</th>\n",
       "      <th>Industry</th>\n",
       "      <th>Ethnicity</th>\n",
       "      <th>YearsEmployed</th>\n",
       "      <th>PriorDefault</th>\n",
       "      <th>Employed</th>\n",
       "      <th>CreditScore</th>\n",
       "      <th>DriversLicense</th>\n",
       "      <th>Citizen</th>\n",
       "      <th>ZipCode</th>\n",
       "      <th>Income</th>\n",
       "      <th>Approved</th>\n",
       "    </tr>\n",
       "  </thead>\n",
       "  <tbody>\n",
       "    <tr>\n",
       "      <th>685</th>\n",
       "      <td>1</td>\n",
       "      <td>21.08</td>\n",
       "      <td>10.085</td>\n",
       "      <td>0</td>\n",
       "      <td>0</td>\n",
       "      <td>Education</td>\n",
       "      <td>Black</td>\n",
       "      <td>1.25</td>\n",
       "      <td>0</td>\n",
       "      <td>0</td>\n",
       "      <td>0</td>\n",
       "      <td>0</td>\n",
       "      <td>ByBirth</td>\n",
       "      <td>260</td>\n",
       "      <td>0</td>\n",
       "      <td>0</td>\n",
       "    </tr>\n",
       "    <tr>\n",
       "      <th>686</th>\n",
       "      <td>0</td>\n",
       "      <td>22.67</td>\n",
       "      <td>0.750</td>\n",
       "      <td>1</td>\n",
       "      <td>1</td>\n",
       "      <td>Energy</td>\n",
       "      <td>White</td>\n",
       "      <td>2.00</td>\n",
       "      <td>0</td>\n",
       "      <td>1</td>\n",
       "      <td>2</td>\n",
       "      <td>1</td>\n",
       "      <td>ByBirth</td>\n",
       "      <td>200</td>\n",
       "      <td>394</td>\n",
       "      <td>0</td>\n",
       "    </tr>\n",
       "    <tr>\n",
       "      <th>687</th>\n",
       "      <td>0</td>\n",
       "      <td>25.25</td>\n",
       "      <td>13.500</td>\n",
       "      <td>0</td>\n",
       "      <td>0</td>\n",
       "      <td>Healthcare</td>\n",
       "      <td>Latino</td>\n",
       "      <td>2.00</td>\n",
       "      <td>0</td>\n",
       "      <td>1</td>\n",
       "      <td>1</td>\n",
       "      <td>1</td>\n",
       "      <td>ByBirth</td>\n",
       "      <td>200</td>\n",
       "      <td>1</td>\n",
       "      <td>0</td>\n",
       "    </tr>\n",
       "    <tr>\n",
       "      <th>688</th>\n",
       "      <td>1</td>\n",
       "      <td>17.92</td>\n",
       "      <td>0.205</td>\n",
       "      <td>1</td>\n",
       "      <td>1</td>\n",
       "      <td>ConsumerStaples</td>\n",
       "      <td>White</td>\n",
       "      <td>0.04</td>\n",
       "      <td>0</td>\n",
       "      <td>0</td>\n",
       "      <td>0</td>\n",
       "      <td>0</td>\n",
       "      <td>ByBirth</td>\n",
       "      <td>280</td>\n",
       "      <td>750</td>\n",
       "      <td>0</td>\n",
       "    </tr>\n",
       "    <tr>\n",
       "      <th>689</th>\n",
       "      <td>1</td>\n",
       "      <td>35.00</td>\n",
       "      <td>3.375</td>\n",
       "      <td>1</td>\n",
       "      <td>1</td>\n",
       "      <td>Energy</td>\n",
       "      <td>Black</td>\n",
       "      <td>8.29</td>\n",
       "      <td>0</td>\n",
       "      <td>0</td>\n",
       "      <td>0</td>\n",
       "      <td>1</td>\n",
       "      <td>ByBirth</td>\n",
       "      <td>0</td>\n",
       "      <td>0</td>\n",
       "      <td>0</td>\n",
       "    </tr>\n",
       "  </tbody>\n",
       "</table>\n",
       "</div>"
      ],
      "text/plain": [
       "     Gender    Age    Debt  Married  BankCustomer         Industry Ethnicity  \\\n",
       "685       1  21.08  10.085        0             0        Education     Black   \n",
       "686       0  22.67   0.750        1             1           Energy     White   \n",
       "687       0  25.25  13.500        0             0       Healthcare    Latino   \n",
       "688       1  17.92   0.205        1             1  ConsumerStaples     White   \n",
       "689       1  35.00   3.375        1             1           Energy     Black   \n",
       "\n",
       "     YearsEmployed  PriorDefault  Employed  CreditScore  DriversLicense  \\\n",
       "685           1.25             0         0            0               0   \n",
       "686           2.00             0         1            2               1   \n",
       "687           2.00             0         1            1               1   \n",
       "688           0.04             0         0            0               0   \n",
       "689           8.29             0         0            0               1   \n",
       "\n",
       "     Citizen  ZipCode  Income  Approved  \n",
       "685  ByBirth      260       0         0  \n",
       "686  ByBirth      200     394         0  \n",
       "687  ByBirth      200       1         0  \n",
       "688  ByBirth      280     750         0  \n",
       "689  ByBirth        0       0         0  "
      ]
     },
     "execution_count": 5,
     "metadata": {},
     "output_type": "execute_result"
    }
   ],
   "source": [
    "df.tail()"
   ]
  },
  {
   "cell_type": "markdown",
   "id": "15f47bcc",
   "metadata": {},
   "source": [
    "#### Information of DataSet"
   ]
  },
  {
   "cell_type": "code",
   "execution_count": 6,
   "id": "34cf4a00",
   "metadata": {},
   "outputs": [
    {
     "name": "stdout",
     "output_type": "stream",
     "text": [
      "<class 'pandas.core.frame.DataFrame'>\n",
      "RangeIndex: 690 entries, 0 to 689\n",
      "Data columns (total 16 columns):\n",
      " #   Column          Non-Null Count  Dtype  \n",
      "---  ------          --------------  -----  \n",
      " 0   Gender          690 non-null    int64  \n",
      " 1   Age             690 non-null    float64\n",
      " 2   Debt            690 non-null    float64\n",
      " 3   Married         690 non-null    int64  \n",
      " 4   BankCustomer    690 non-null    int64  \n",
      " 5   Industry        690 non-null    object \n",
      " 6   Ethnicity       690 non-null    object \n",
      " 7   YearsEmployed   690 non-null    float64\n",
      " 8   PriorDefault    690 non-null    int64  \n",
      " 9   Employed        690 non-null    int64  \n",
      " 10  CreditScore     690 non-null    int64  \n",
      " 11  DriversLicense  690 non-null    int64  \n",
      " 12  Citizen         690 non-null    object \n",
      " 13  ZipCode         690 non-null    int64  \n",
      " 14  Income          690 non-null    int64  \n",
      " 15  Approved        690 non-null    int64  \n",
      "dtypes: float64(3), int64(10), object(3)\n",
      "memory usage: 86.4+ KB\n"
     ]
    }
   ],
   "source": [
    "df.info()"
   ]
  },
  {
   "cell_type": "markdown",
   "id": "bffc1b26",
   "metadata": {},
   "source": [
    "#### Checking the count of NULL values"
   ]
  },
  {
   "cell_type": "code",
   "execution_count": 7,
   "id": "0277894c",
   "metadata": {},
   "outputs": [
    {
     "data": {
      "text/plain": [
       "Gender            0\n",
       "Age               0\n",
       "Debt              0\n",
       "Married           0\n",
       "BankCustomer      0\n",
       "Industry          0\n",
       "Ethnicity         0\n",
       "YearsEmployed     0\n",
       "PriorDefault      0\n",
       "Employed          0\n",
       "CreditScore       0\n",
       "DriversLicense    0\n",
       "Citizen           0\n",
       "ZipCode           0\n",
       "Income            0\n",
       "Approved          0\n",
       "dtype: int64"
      ]
     },
     "execution_count": 7,
     "metadata": {},
     "output_type": "execute_result"
    }
   ],
   "source": [
    "df.isna().sum()"
   ]
  },
  {
   "cell_type": "markdown",
   "id": "0b8927d4",
   "metadata": {},
   "source": [
    "##### *Gender*"
   ]
  },
  {
   "cell_type": "code",
   "execution_count": 8,
   "id": "e430830a",
   "metadata": {},
   "outputs": [
    {
     "data": {
      "text/plain": [
       "1    480\n",
       "0    210\n",
       "Name: Gender, dtype: int64"
      ]
     },
     "execution_count": 8,
     "metadata": {},
     "output_type": "execute_result"
    },
    {
     "data": {
      "image/png": "[encoded data removed]",
      "text/plain": [
       "<Figure size 432x288 with 1 Axes>"
      ]
     },
     "metadata": {},
     "output_type": "display_data"
    }
   ],
   "source": [
    "plt.pie(df['Gender'].value_counts(),autopct='%.f', labels=df['Gender'].value_counts().index);\n",
    "df['Gender'].value_counts()\n",
    "\n",
    "# Male Dominancy (1)"
   ]
  },
  {
   "cell_type": "markdown",
   "id": "63c27e58",
   "metadata": {},
   "source": [
    "##### *Age*"
   ]
  },
  {
   "cell_type": "code",
   "execution_count": 9,
   "id": "7e812299",
   "metadata": {},
   "outputs": [],
   "source": [
    "df['Age'] = df['Age'].astype(int)"
   ]
  },
  {
   "cell_type": "code",
   "execution_count": 10,
   "id": "5428686b",
   "metadata": {},
   "outputs": [
    {
     "data": {
      "text/plain": [
       "<AxesSubplot:xlabel='Age', ylabel='Count'>"
      ]
     },
     "execution_count": 10,
     "metadata": {},
     "output_type": "execute_result"
    },
    {
     "data": {
      "image/png": "[encoded data removed]",
      "text/plain": [
       "<Figure size 432x288 with 1 Axes>"
      ]
     },
     "metadata": {
      "needs_background": "light"
     },
     "output_type": "display_data"
    }
   ],
   "source": [
    "#Right Skewed Distribution\n",
    "sns.histplot(df['Age'], kde=True)"
   ]
  },
  {
   "cell_type": "code",
   "execution_count": 11,
   "id": "3fa119d7",
   "metadata": {},
   "outputs": [
    {
     "name": "stderr",
     "output_type": "stream",
     "text": [
      "C:\\Users\\Garima\\anaconda3\\lib\\site-packages\\seaborn\\_decorators.py:36: FutureWarning: Pass the following variable as a keyword arg: x. From version 0.12, the only valid positional argument will be `data`, and passing other arguments without an explicit keyword will result in an error or misinterpretation.\n",
      "  warnings.warn(\n"
     ]
    },
    {
     "data": {
      "text/plain": [
       "<AxesSubplot:xlabel='Age'>"
      ]
     },
     "execution_count": 11,
     "metadata": {},
     "output_type": "execute_result"
    },
    {
     "data": {
      "image/png": "[encoded data removed]",
      "text/plain": [
       "<Figure size 432x288 with 1 Axes>"
      ]
     },
     "metadata": {
      "needs_background": "light"
     },
     "output_type": "display_data"
    }
   ],
   "source": [
    "sns.boxplot(df['Age'])"
   ]
  },
  {
   "cell_type": "markdown",
   "id": "26ed7099",
   "metadata": {},
   "source": [
    "##### *Debt*"
   ]
  },
  {
   "cell_type": "code",
   "execution_count": 12,
   "id": "48ab2300",
   "metadata": {},
   "outputs": [
    {
     "name": "stderr",
     "output_type": "stream",
     "text": [
      "C:\\Users\\Garima\\anaconda3\\lib\\site-packages\\seaborn\\_decorators.py:36: FutureWarning: Pass the following variable as a keyword arg: x. From version 0.12, the only valid positional argument will be `data`, and passing other arguments without an explicit keyword will result in an error or misinterpretation.\n",
      "  warnings.warn(\n"
     ]
    },
    {
     "data": {
      "text/plain": [
       "<AxesSubplot:xlabel='Debt'>"
      ]
     },
     "execution_count": 12,
     "metadata": {},
     "output_type": "execute_result"
    },
    {
     "data": {
      "image/png": "[encoded data removed]",
      "text/plain": [
       "<Figure size 432x288 with 1 Axes>"
      ]
     },
     "metadata": {
      "needs_background": "light"
     },
     "output_type": "display_data"
    }
   ],
   "source": [
    "sns.boxplot(df['Debt'])"
   ]
  },
  {
   "cell_type": "markdown",
   "id": "39c41cb6",
   "metadata": {},
   "source": [
    "##### *Married*"
   ]
  },
  {
   "cell_type": "code",
   "execution_count": 13,
   "id": "fb50fbf4",
   "metadata": {},
   "outputs": [
    {
     "data": {
      "text/plain": [
       "1    525\n",
       "0    165\n",
       "Name: Married, dtype: int64"
      ]
     },
     "execution_count": 13,
     "metadata": {},
     "output_type": "execute_result"
    },
    {
     "data": {
      "image/png": "[encoded data removed]",
      "text/plain": [
       "<Figure size 432x288 with 1 Axes>"
      ]
     },
     "metadata": {},
     "output_type": "display_data"
    }
   ],
   "source": [
    "plt.pie(df['Married'].value_counts(),autopct='%.f', labels=df['Married'].value_counts().index)\n",
    "df['Married'].value_counts()\n",
    "\n",
    "# More than 50% are Married"
   ]
  },
  {
   "cell_type": "markdown",
   "id": "aacd8738",
   "metadata": {},
   "source": [
    "##### *Bank Customer*"
   ]
  },
  {
   "cell_type": "code",
   "execution_count": 14,
   "id": "ad877862",
   "metadata": {},
   "outputs": [
    {
     "data": {
      "text/plain": [
       "1    527\n",
       "0    163\n",
       "Name: BankCustomer, dtype: int64"
      ]
     },
     "execution_count": 14,
     "metadata": {},
     "output_type": "execute_result"
    },
    {
     "data": {
      "image/png": "[encoded data removed]",
      "text/plain": [
       "<Figure size 432x288 with 1 Axes>"
      ]
     },
     "metadata": {},
     "output_type": "display_data"
    }
   ],
   "source": [
    "plt.pie(df['BankCustomer'].value_counts(),autopct='%.f', labels=df['BankCustomer'].value_counts().index)\n",
    "df['BankCustomer'].value_counts()\n",
    "\n",
    "# More than 50% are Bank Customers"
   ]
  },
  {
   "cell_type": "markdown",
   "id": "2bd5156c",
   "metadata": {},
   "source": [
    "##### *Industry*"
   ]
  },
  {
   "cell_type": "code",
   "execution_count": 15,
   "id": "05ee8a66",
   "metadata": {},
   "outputs": [
    {
     "data": {
      "text/plain": [
       "Energy                   146\n",
       "Materials                 78\n",
       "Industrials               64\n",
       "ConsumerDiscretionary     59\n",
       "ConsumerStaples           54\n",
       "Healthcare                53\n",
       "Financials                51\n",
       "InformationTechnology     41\n",
       "CommunicationServices     38\n",
       "Utilities                 38\n",
       "Real Estate               30\n",
       "Education                 25\n",
       "Research                  10\n",
       "Transport                  3\n",
       "Name: Industry, dtype: int64"
      ]
     },
     "execution_count": 15,
     "metadata": {},
     "output_type": "execute_result"
    },
    {
     "data": {
      "image/png": "[encoded data removed]",
      "text/plain": [
       "<Figure size 432x288 with 1 Axes>"
      ]
     },
     "metadata": {},
     "output_type": "display_data"
    }
   ],
   "source": [
    "plt.pie(df['Industry'].value_counts(),autopct='%.1f', labels=df['Industry'].value_counts().index)\n",
    "df['Industry'].value_counts()\n",
    "\n",
    "#Vast Variety of Professions"
   ]
  },
  {
   "cell_type": "code",
   "execution_count": 16,
   "id": "e3753b96",
   "metadata": {},
   "outputs": [
    {
     "data": {
      "text/plain": [
       "Transport                  3\n",
       "Research                  10\n",
       "Education                 25\n",
       "Real Estate               30\n",
       "CommunicationServices     38\n",
       "Utilities                 38\n",
       "InformationTechnology     41\n",
       "Financials                51\n",
       "Healthcare                53\n",
       "ConsumerStaples           54\n",
       "ConsumerDiscretionary     59\n",
       "Industrials               64\n",
       "Materials                 78\n",
       "Energy                   146\n",
       "Name: Industry, dtype: int64"
      ]
     },
     "execution_count": 16,
     "metadata": {},
     "output_type": "execute_result"
    }
   ],
   "source": [
    "df['Industry'].value_counts().sort_values()"
   ]
  },
  {
   "cell_type": "markdown",
   "id": "dd77af38",
   "metadata": {},
   "source": [
    "##### *Ethnicity*"
   ]
  },
  {
   "cell_type": "code",
   "execution_count": 17,
   "id": "46fef0f5",
   "metadata": {},
   "outputs": [
    {
     "data": {
      "text/plain": [
       "White     408\n",
       "Black     138\n",
       "Asian      59\n",
       "Latino     57\n",
       "Other      28\n",
       "Name: Ethnicity, dtype: int64"
      ]
     },
     "execution_count": 17,
     "metadata": {},
     "output_type": "execute_result"
    },
    {
     "data": {
      "image/png": "[encoded data removed]",
      "text/plain": [
       "<Figure size 432x288 with 1 Axes>"
      ]
     },
     "metadata": {},
     "output_type": "display_data"
    }
   ],
   "source": [
    "plt.pie(df['Ethnicity'].value_counts(),autopct='%.1f',labels=df['Ethnicity'].value_counts().index)\n",
    "df['Ethnicity'].value_counts()\n",
    "\n",
    "# White Dominancy"
   ]
  },
  {
   "cell_type": "markdown",
   "id": "26856646",
   "metadata": {},
   "source": [
    "##### *Prior Default*"
   ]
  },
  {
   "cell_type": "code",
   "execution_count": 18,
   "id": "49acc624",
   "metadata": {},
   "outputs": [
    {
     "data": {
      "text/plain": [
       "([<matplotlib.patches.Wedge at 0x2562aea7310>,\n",
       "  <matplotlib.patches.Wedge at 0x2562aea78e0>],\n",
       " [Text(-0.08006254192788104, 1.0970824897791627, '1'),\n",
       "  Text(0.08006254192788115, -1.0970824897791627, '0')],\n",
       " [Text(-0.04367047741520783, 0.598408630788634, '52.3'),\n",
       "  Text(0.043670477415207895, -0.598408630788634, '47.7')])"
      ]
     },
     "execution_count": 18,
     "metadata": {},
     "output_type": "execute_result"
    },
    {
     "data": {
      "image/png": "[encoded data removed]",
      "text/plain": [
       "<Figure size 432x288 with 1 Axes>"
      ]
     },
     "metadata": {},
     "output_type": "display_data"
    }
   ],
   "source": [
    "plt.pie(df['PriorDefault'].value_counts(),autopct='%.1f',labels=df['PriorDefault'].value_counts().index)\n",
    "\n",
    "#More than 50% are Defaulted"
   ]
  },
  {
   "cell_type": "markdown",
   "id": "1a63edc6",
   "metadata": {},
   "source": [
    "##### *Employed*"
   ]
  },
  {
   "cell_type": "code",
   "execution_count": 19,
   "id": "104a1a6a",
   "metadata": {},
   "outputs": [
    {
     "data": {
      "text/plain": [
       "([<matplotlib.patches.Wedge at 0x2562aeee550>,\n",
       "  <matplotlib.patches.Wedge at 0x2562aeeec40>],\n",
       " [Text(-0.24825935908973076, 1.071619004415448, '0'),\n",
       "  Text(0.24825925875751764, -1.0716190276591622, '1')],\n",
       " [Text(-0.13541419586712586, 0.5845194569538807, '57.2'),\n",
       "  Text(0.13541414114046416, -0.5845194696322702, '42.8')])"
      ]
     },
     "execution_count": 19,
     "metadata": {},
     "output_type": "execute_result"
    },
    {
     "data": {
      "image/png": "[encoded data removed]",
      "text/plain": [
       "<Figure size 432x288 with 1 Axes>"
      ]
     },
     "metadata": {},
     "output_type": "display_data"
    }
   ],
   "source": [
    "plt.pie(df['Employed'].value_counts(),autopct='%.1f',labels=df['Employed'].value_counts().index)\n",
    "\n",
    "#More than 50% are Employed"
   ]
  },
  {
   "cell_type": "markdown",
   "id": "df66e86c",
   "metadata": {},
   "source": [
    "##### *Credit Score*"
   ]
  },
  {
   "cell_type": "code",
   "execution_count": 20,
   "id": "befd84cd",
   "metadata": {},
   "outputs": [
    {
     "data": {
      "image/png": "[encoded data removed]",
      "text/plain": [
       "<Figure size 432x288 with 1 Axes>"
      ]
     },
     "metadata": {},
     "output_type": "display_data"
    }
   ],
   "source": [
    "plt.pie(df['CreditScore'].value_counts(),autopct='%.1f',labels=df['CreditScore'].value_counts().index);\n",
    "\n",
    "# More than 50% of Credit Score lies in 0.0. "
   ]
  },
  {
   "cell_type": "markdown",
   "id": "d4c0933a",
   "metadata": {},
   "source": [
    "##### *Driver Liecence*"
   ]
  },
  {
   "cell_type": "code",
   "execution_count": 21,
   "id": "4b52f55f",
   "metadata": {},
   "outputs": [
    {
     "data": {
      "image/png": "[encoded data removed]",
      "text/plain": [
       "<Figure size 432x288 with 1 Axes>"
      ]
     },
     "metadata": {},
     "output_type": "display_data"
    }
   ],
   "source": [
    "plt.pie(df['DriversLicense'].value_counts(),autopct='%.1f',labels=df['DriversLicense'].value_counts().index);\n",
    "\n",
    "#More than 50% doesn't owns a Driving License"
   ]
  },
  {
   "cell_type": "markdown",
   "id": "b946ba62",
   "metadata": {},
   "source": [
    "##### *Citizen*"
   ]
  },
  {
   "cell_type": "code",
   "execution_count": 22,
   "id": "089f0b34",
   "metadata": {},
   "outputs": [
    {
     "data": {
      "text/plain": [
       "ByBirth         625\n",
       "ByOtherMeans     57\n",
       "Temporary         8\n",
       "Name: Citizen, dtype: int64"
      ]
     },
     "execution_count": 22,
     "metadata": {},
     "output_type": "execute_result"
    },
    {
     "data": {
      "image/png": "[encoded data removed]",
      "text/plain": [
       "<Figure size 432x288 with 1 Axes>"
      ]
     },
     "metadata": {},
     "output_type": "display_data"
    }
   ],
   "source": [
    "plt.pie(df['Citizen'].value_counts(),autopct='%.1f',labels=df['Citizen'].value_counts().index);\n",
    "df['Citizen'].value_counts()"
   ]
  },
  {
   "cell_type": "markdown",
   "id": "e7e5c795",
   "metadata": {},
   "source": [
    "##### *Is Fraud?*"
   ]
  },
  {
   "cell_type": "code",
   "execution_count": 23,
   "id": "6a11b0c2",
   "metadata": {},
   "outputs": [
    {
     "data": {
      "image/png": "[encoded data removed]",
      "text/plain": [
       "<Figure size 432x288 with 1 Axes>"
      ]
     },
     "metadata": {},
     "output_type": "display_data"
    }
   ],
   "source": [
    "plt.pie(df['Approved'].value_counts(),autopct='%.1f',labels=df['Approved'].value_counts().index);\n",
    "\n",
    "#More than 50% are Fraudesters"
   ]
  },
  {
   "cell_type": "markdown",
   "id": "93af5088",
   "metadata": {},
   "source": [
    "### Label Encoder\n",
    "\n",
    "Applying label encoding in \"Industry\" column as it contains multiple labels in one column."
   ]
  },
  {
   "cell_type": "code",
   "execution_count": 24,
   "id": "2acfd11f",
   "metadata": {},
   "outputs": [],
   "source": [
    "from sklearn.preprocessing import LabelEncoder, OneHotEncoder, MinMaxScaler"
   ]
  },
  {
   "cell_type": "code",
   "execution_count": 25,
   "id": "a0e7fba3",
   "metadata": {},
   "outputs": [
    {
     "data": {
      "text/plain": [
       "4     146\n",
       "9      78\n",
       "7      64\n",
       "1      59\n",
       "2      54\n",
       "6      53\n",
       "5      51\n",
       "8      41\n",
       "0      38\n",
       "13     38\n",
       "10     30\n",
       "3      25\n",
       "11     10\n",
       "12      3\n",
       "Name: Industry, dtype: int64"
      ]
     },
     "execution_count": 25,
     "metadata": {},
     "output_type": "execute_result"
    }
   ],
   "source": [
    "label= LabelEncoder()\n",
    "df['Industry']=label.fit_transform(df['Industry'])\n",
    "df['Industry'].value_counts()"
   ]
  },
  {
   "cell_type": "code",
   "execution_count": 26,
   "id": "4572ed1a",
   "metadata": {},
   "outputs": [
    {
     "data": {
      "text/plain": [
       "array([ 7,  9,  9,  7,  7,  0, 12,  8,  5,  7,  4,  4,  5,  5,  9,  5,  0,\n",
       "        9, 10,  8,  4,  4,  4, 13,  9,  4,  1, 10,  3,  7,  2, 13,  1,  3,\n",
       "        9,  7,  8, 13,  8,  6,  4,  4,  7,  7,  4,  4,  9,  8,  1,  4,  4,\n",
       "        9,  7,  7,  8,  7,  8,  1, 13,  9,  0, 10,  9,  9,  8,  8,  4,  0,\n",
       "        7, 13,  3, 10,  8,  0,  4,  9,  2,  2,  5,  4,  6,  0,  0, 10,  2,\n",
       "        4, 10,  2,  2, 11,  4,  4,  2,  4,  4,  1,  2,  4,  9,  9,  4,  4,\n",
       "        9,  5,  1,  3,  5,  2, 13,  4,  7,  6,  7,  5,  4,  9,  9,  5,  0,\n",
       "        8,  9,  8,  2,  9,  9, 13,  0,  9,  1,  7,  3,  4,  3,  4,  9,  9,\n",
       "        2,  0,  7,  9,  8, 11,  8,  7,  8,  8,  9,  9,  4,  4,  8,  9,  0,\n",
       "        4,  8, 11, 13,  3,  5,  0, 13,  0, 13,  3,  9,  9,  9,  8,  9, 10,\n",
       "        2,  4,  5,  5,  9,  7,  2,  2,  9,  2,  4,  1,  9,  4,  9,  4,  2,\n",
       "        4,  4,  9,  4,  1, 13,  7,  1,  4, 13,  7,  2, 13,  9,  1,  4,  9,\n",
       "        7,  9,  4,  9,  5,  4,  8, 10,  6,  1,  8,  2,  8,  6,  3,  4,  2,\n",
       "        3,  2,  2,  9,  4,  5, 13,  9,  8,  8, 13, 13,  7,  1,  9,  1,  2,\n",
       "        9, 13,  4,  7,  7,  9,  1,  4,  8,  9,  4, 13,  3,  9, 13, 13,  5,\n",
       "        4,  4, 10,  1,  4, 10,  6,  1, 13,  6,  4,  3, 10,  9,  9,  4,  4,\n",
       "        0,  5,  8, 10,  1,  9,  6,  0,  4,  8,  4,  9,  4,  7,  6,  7,  4,\n",
       "       11,  0,  7,  7,  7,  6,  6,  6,  2,  2,  4,  6, 10,  4,  9,  9,  6,\n",
       "        6,  6,  5, 11,  7,  4,  2, 10,  2,  0,  4,  6,  0,  4,  7,  8,  8,\n",
       "        5,  7, 13,  4,  1,  7,  1,  4,  4,  4, 10,  8,  9,  4,  1,  2,  7,\n",
       "        4,  2,  1,  1,  5,  3,  4,  4,  4,  7, 11,  6,  0, 10,  1,  2, 10,\n",
       "        9, 10,  6,  5,  6,  5,  5,  3,  0,  2,  0,  5, 12,  7,  3,  5,  7,\n",
       "        2,  3, 10,  4,  1,  1,  1,  4,  1,  6,  5,  4,  2,  4,  1,  0,  3,\n",
       "        1,  2,  0,  7, 10, 13,  6,  5,  4, 11,  4,  1,  9,  1,  6,  5,  4,\n",
       "        7,  9,  6,  4,  1,  1,  5,  6,  5,  4,  4,  6,  1,  9,  7,  8,  4,\n",
       "        4,  7,  3,  6,  8,  6,  4,  5,  2,  4,  6,  6,  6,  6,  5,  5,  6,\n",
       "        0,  5, 11,  6,  4,  6,  6,  4,  1,  4,  9,  7, 10,  7,  4,  4,  1,\n",
       "        4,  4,  0,  4,  6, 11,  0,  4,  7,  5,  1,  5,  1,  1,  1,  4, 10,\n",
       "        1,  1,  1,  4,  1,  5,  2,  4,  0,  6,  5,  2,  6,  9,  9,  9,  0,\n",
       "        4,  4,  7, 13,  4,  4,  4, 13,  8,  6, 13,  4,  4,  2,  9,  4,  7,\n",
       "        7, 11,  4,  3,  4, 13,  2,  4,  9, 13,  5,  3,  0,  9,  9,  4,  5,\n",
       "        1,  5,  9,  4,  2,  1,  6,  2,  6,  6, 13,  7,  4,  8,  1,  5,  7,\n",
       "        1, 10,  7, 10, 13,  0,  3,  1, 12,  7, 13,  4,  7,  7, 13,  9,  8,\n",
       "       13,  4,  9,  9,  2,  7, 13,  4,  2,  7, 10, 13,  6,  4,  4,  4,  4,\n",
       "        4,  0, 13,  3,  0,  7,  3,  6, 13,  4,  4,  4,  8,  4,  4,  7,  5,\n",
       "        4,  4,  2,  9,  4,  5,  4,  5,  9,  4,  5,  4,  5, 10, 13,  5,  9,\n",
       "        7,  4,  4,  4,  1,  6,  0,  2,  1,  4,  4,  9,  8,  4,  1,  6, 10,\n",
       "        7,  9,  0,  6,  5,  7,  4,  0,  2,  2,  5,  1,  8,  2,  2,  7,  8,\n",
       "        4,  2,  5,  6,  1,  9,  1,  1,  9,  6,  4,  2,  4,  4,  2,  4,  7,\n",
       "        8,  7,  0,  4,  4, 10,  6,  7,  8,  2,  3,  1,  2,  9,  0,  6,  4,\n",
       "        5, 10,  1, 10,  0,  3,  4,  6,  2,  4])"
      ]
     },
     "execution_count": 26,
     "metadata": {},
     "output_type": "execute_result"
    }
   ],
   "source": [
    "industry= df['Industry'].values\n",
    "industry"
   ]
  },
  {
   "cell_type": "markdown",
   "id": "de63f3db",
   "metadata": {},
   "source": [
    "### OneHot Encoder\n",
    "\n",
    "After applying Label Encoding in Industry column, it needs to be convert into numerical data as ML algorithms cannot work with categorical columna"
   ]
  },
  {
   "cell_type": "code",
   "execution_count": 27,
   "id": "f6748160",
   "metadata": {},
   "outputs": [],
   "source": [
    "industry_onehot=OneHotEncoder()\n",
    "industry=industry_onehot.fit_transform(industry.reshape(-1,1))"
   ]
  },
  {
   "cell_type": "code",
   "execution_count": 28,
   "id": "1b9e0e62",
   "metadata": {},
   "outputs": [],
   "source": [
    "industry= industry.toarray()"
   ]
  },
  {
   "cell_type": "code",
   "execution_count": 29,
   "id": "4dd31788",
   "metadata": {},
   "outputs": [
    {
     "data": {
      "text/plain": [
       "array([[0., 0., 0., ..., 0., 0., 0.],\n",
       "       [0., 0., 0., ..., 0., 0., 0.],\n",
       "       [0., 0., 0., ..., 0., 0., 0.],\n",
       "       ...,\n",
       "       [0., 0., 0., ..., 0., 0., 0.],\n",
       "       [0., 0., 1., ..., 0., 0., 0.],\n",
       "       [0., 0., 0., ..., 0., 0., 0.]])"
      ]
     },
     "execution_count": 29,
     "metadata": {},
     "output_type": "execute_result"
    }
   ],
   "source": [
    "industry"
   ]
  },
  {
   "cell_type": "code",
   "execution_count": 30,
   "id": "e93cf435",
   "metadata": {},
   "outputs": [
    {
     "data": {
      "text/plain": [
       "array([ 7,  9,  0, 12,  8,  5,  4, 10, 13,  1,  3,  2,  6, 11])"
      ]
     },
     "execution_count": 30,
     "metadata": {},
     "output_type": "execute_result"
    }
   ],
   "source": [
    "df.Industry.unique()"
   ]
  },
  {
   "cell_type": "markdown",
   "id": "d1fa9d35",
   "metadata": {},
   "source": [
    "###  Dropping of Columns"
   ]
  },
  {
   "cell_type": "code",
   "execution_count": 31,
   "id": "3d3f7e14",
   "metadata": {},
   "outputs": [],
   "source": [
    "df.drop(columns=['Industry', 'Ethnicity', 'Citizen', 'ZipCode'], inplace=True)"
   ]
  },
  {
   "cell_type": "code",
   "execution_count": 32,
   "id": "c533748e",
   "metadata": {},
   "outputs": [
    {
     "data": {
      "text/plain": [
       "(690, 12)"
      ]
     },
     "execution_count": 32,
     "metadata": {},
     "output_type": "execute_result"
    }
   ],
   "source": [
    "#Shape of Dataset after dropping columns above mentioned.\n",
    "df.shape"
   ]
  },
  {
   "cell_type": "code",
   "execution_count": 33,
   "id": "8739bb69",
   "metadata": {},
   "outputs": [
    {
     "data": {
      "text/html": [
       "<div>\n",
       "<style scoped>\n",
       "    .dataframe tbody tr th:only-of-type {\n",
       "        vertical-align: middle;\n",
       "    }\n",
       "\n",
       "    .dataframe tbody tr th {\n",
       "        vertical-align: top;\n",
       "    }\n",
       "\n",
       "    .dataframe thead th {\n",
       "        text-align: right;\n",
       "    }\n",
       "</style>\n",
       "<table border=\"1\" class=\"dataframe\">\n",
       "  <thead>\n",
       "    <tr style=\"text-align: right;\">\n",
       "      <th></th>\n",
       "      <th>Gender</th>\n",
       "      <th>Age</th>\n",
       "      <th>Debt</th>\n",
       "      <th>Married</th>\n",
       "      <th>BankCustomer</th>\n",
       "      <th>YearsEmployed</th>\n",
       "      <th>PriorDefault</th>\n",
       "      <th>Employed</th>\n",
       "      <th>CreditScore</th>\n",
       "      <th>DriversLicense</th>\n",
       "      <th>Income</th>\n",
       "      <th>Approved</th>\n",
       "    </tr>\n",
       "  </thead>\n",
       "  <tbody>\n",
       "    <tr>\n",
       "      <th>0</th>\n",
       "      <td>1</td>\n",
       "      <td>30</td>\n",
       "      <td>0.000</td>\n",
       "      <td>1</td>\n",
       "      <td>1</td>\n",
       "      <td>1.25</td>\n",
       "      <td>1</td>\n",
       "      <td>1</td>\n",
       "      <td>1</td>\n",
       "      <td>0</td>\n",
       "      <td>0</td>\n",
       "      <td>1</td>\n",
       "    </tr>\n",
       "    <tr>\n",
       "      <th>1</th>\n",
       "      <td>0</td>\n",
       "      <td>58</td>\n",
       "      <td>4.460</td>\n",
       "      <td>1</td>\n",
       "      <td>1</td>\n",
       "      <td>3.04</td>\n",
       "      <td>1</td>\n",
       "      <td>1</td>\n",
       "      <td>6</td>\n",
       "      <td>0</td>\n",
       "      <td>560</td>\n",
       "      <td>1</td>\n",
       "    </tr>\n",
       "    <tr>\n",
       "      <th>2</th>\n",
       "      <td>0</td>\n",
       "      <td>24</td>\n",
       "      <td>0.500</td>\n",
       "      <td>1</td>\n",
       "      <td>1</td>\n",
       "      <td>1.50</td>\n",
       "      <td>1</td>\n",
       "      <td>0</td>\n",
       "      <td>0</td>\n",
       "      <td>0</td>\n",
       "      <td>824</td>\n",
       "      <td>1</td>\n",
       "    </tr>\n",
       "    <tr>\n",
       "      <th>3</th>\n",
       "      <td>1</td>\n",
       "      <td>27</td>\n",
       "      <td>1.540</td>\n",
       "      <td>1</td>\n",
       "      <td>1</td>\n",
       "      <td>3.75</td>\n",
       "      <td>1</td>\n",
       "      <td>1</td>\n",
       "      <td>5</td>\n",
       "      <td>1</td>\n",
       "      <td>3</td>\n",
       "      <td>1</td>\n",
       "    </tr>\n",
       "    <tr>\n",
       "      <th>4</th>\n",
       "      <td>1</td>\n",
       "      <td>20</td>\n",
       "      <td>5.625</td>\n",
       "      <td>1</td>\n",
       "      <td>1</td>\n",
       "      <td>1.71</td>\n",
       "      <td>1</td>\n",
       "      <td>0</td>\n",
       "      <td>0</td>\n",
       "      <td>0</td>\n",
       "      <td>0</td>\n",
       "      <td>1</td>\n",
       "    </tr>\n",
       "  </tbody>\n",
       "</table>\n",
       "</div>"
      ],
      "text/plain": [
       "   Gender  Age   Debt  Married  BankCustomer  YearsEmployed  PriorDefault  \\\n",
       "0       1   30  0.000        1             1           1.25             1   \n",
       "1       0   58  4.460        1             1           3.04             1   \n",
       "2       0   24  0.500        1             1           1.50             1   \n",
       "3       1   27  1.540        1             1           3.75             1   \n",
       "4       1   20  5.625        1             1           1.71             1   \n",
       "\n",
       "   Employed  CreditScore  DriversLicense  Income  Approved  \n",
       "0         1            1               0       0         1  \n",
       "1         1            6               0     560         1  \n",
       "2         0            0               0     824         1  \n",
       "3         1            5               1       3         1  \n",
       "4         0            0               0       0         1  "
      ]
     },
     "execution_count": 33,
     "metadata": {},
     "output_type": "execute_result"
    }
   ],
   "source": [
    "df.head()"
   ]
  },
  {
   "cell_type": "code",
   "execution_count": 34,
   "id": "3b968e65",
   "metadata": {},
   "outputs": [],
   "source": [
    "#Fitting of columns in X and y\n",
    "X= df.iloc[:,:-1].values\n",
    "y= df.iloc[:, -1].values"
   ]
  },
  {
   "cell_type": "code",
   "execution_count": 35,
   "id": "3ec6b2d6",
   "metadata": {},
   "outputs": [
    {
     "data": {
      "text/plain": [
       "(690, 11)"
      ]
     },
     "execution_count": 35,
     "metadata": {},
     "output_type": "execute_result"
    }
   ],
   "source": [
    "#Shape of X after fitting the columns\n",
    "X.shape"
   ]
  },
  {
   "cell_type": "code",
   "execution_count": 36,
   "id": "7df2f2e8",
   "metadata": {},
   "outputs": [
    {
     "data": {
      "text/plain": [
       "(690,)"
      ]
     },
     "execution_count": 36,
     "metadata": {},
     "output_type": "execute_result"
    }
   ],
   "source": [
    "#Shape of X after fitting the columns\n",
    "y.shape"
   ]
  },
  {
   "cell_type": "code",
   "execution_count": 37,
   "id": "da81c4ea",
   "metadata": {},
   "outputs": [],
   "source": [
    "#Merging Label Encoder Industry Column in X by numpy.c\n",
    "X= np.c_[X, industry]"
   ]
  },
  {
   "cell_type": "code",
   "execution_count": 38,
   "id": "58f48d82",
   "metadata": {},
   "outputs": [
    {
     "data": {
      "text/plain": [
       "array([ 1.  , 30.  ,  0.  ,  1.  ,  1.  ,  1.25,  1.  ,  1.  ,  1.  ,\n",
       "        0.  ,  0.  ,  0.  ,  0.  ,  0.  ,  0.  ,  0.  ,  0.  ,  0.  ,\n",
       "        1.  ,  0.  ,  0.  ,  0.  ,  0.  ,  0.  ,  0.  ])"
      ]
     },
     "execution_count": 38,
     "metadata": {},
     "output_type": "execute_result"
    }
   ],
   "source": [
    "X[0]"
   ]
  },
  {
   "cell_type": "markdown",
   "id": "b2202648",
   "metadata": {},
   "source": [
    "### MinMax Scaler"
   ]
  },
  {
   "cell_type": "code",
   "execution_count": 39,
   "id": "a906d723",
   "metadata": {},
   "outputs": [],
   "source": [
    "minmax= MinMaxScaler()\n",
    "X= minmax.fit_transform(X)"
   ]
  },
  {
   "cell_type": "code",
   "execution_count": 40,
   "id": "1d230713",
   "metadata": {},
   "outputs": [
    {
     "data": {
      "text/plain": [
       "array([1.        , 0.25373134, 0.        , 1.        , 1.        ,\n",
       "       0.04385965, 1.        , 1.        , 0.01492537, 0.        ,\n",
       "       0.        , 0.        , 0.        , 0.        , 0.        ,\n",
       "       0.        , 0.        , 0.        , 1.        , 0.        ,\n",
       "       0.        , 0.        , 0.        , 0.        , 0.        ])"
      ]
     },
     "execution_count": 40,
     "metadata": {},
     "output_type": "execute_result"
    }
   ],
   "source": [
    "X[0]"
   ]
  },
  {
   "cell_type": "markdown",
   "id": "4964e07e",
   "metadata": {},
   "source": [
    "### Train Test Split"
   ]
  },
  {
   "cell_type": "code",
   "execution_count": 41,
   "id": "6a31497d",
   "metadata": {},
   "outputs": [],
   "source": [
    "from sklearn.model_selection import train_test_split\n",
    "\n",
    "X_train, X_test, y_train, y_test = train_test_split(X,y,test_size=0.30, random_state=0) #train=75%"
   ]
  },
  {
   "cell_type": "code",
   "execution_count": 42,
   "id": "8e20170a",
   "metadata": {},
   "outputs": [
    {
     "data": {
      "text/plain": [
       "(483, 25)"
      ]
     },
     "execution_count": 42,
     "metadata": {},
     "output_type": "execute_result"
    }
   ],
   "source": [
    "#Shape of X_train after spliting\n",
    "X_train.shape"
   ]
  },
  {
   "cell_type": "code",
   "execution_count": 43,
   "id": "e5cee7aa",
   "metadata": {},
   "outputs": [
    {
     "data": {
      "text/plain": [
       "(207, 25)"
      ]
     },
     "execution_count": 43,
     "metadata": {},
     "output_type": "execute_result"
    }
   ],
   "source": [
    "#Shape of X_test after spliting\n",
    "X_test.shape"
   ]
  },
  {
   "cell_type": "markdown",
   "id": "dde2274f",
   "metadata": {},
   "source": [
    "## **Modelling**"
   ]
  },
  {
   "cell_type": "markdown",
   "id": "04dc9d84",
   "metadata": {},
   "source": [
    "### Logistic Regression"
   ]
  },
  {
   "cell_type": "code",
   "execution_count": 44,
   "id": "9db6cde4",
   "metadata": {},
   "outputs": [
    {
     "data": {
      "text/plain": [
       "LogisticRegression()"
      ]
     },
     "execution_count": 44,
     "metadata": {},
     "output_type": "execute_result"
    }
   ],
   "source": [
    "from sklearn.linear_model import LogisticRegression\n",
    "\n",
    "model= LogisticRegression()\n",
    "model.fit(X_train, y_train)"
   ]
  },
  {
   "cell_type": "markdown",
   "id": "51f59c27",
   "metadata": {},
   "source": [
    "#### Fitting"
   ]
  },
  {
   "cell_type": "code",
   "execution_count": 45,
   "id": "dabcba02",
   "metadata": {},
   "outputs": [
    {
     "data": {
      "text/plain": [
       "<bound method LogisticRegression.fit of LogisticRegression()>"
      ]
     },
     "execution_count": 45,
     "metadata": {},
     "output_type": "execute_result"
    }
   ],
   "source": [
    "model.fit"
   ]
  },
  {
   "cell_type": "markdown",
   "id": "b0a04b9d",
   "metadata": {},
   "source": [
    "#### Predictions"
   ]
  },
  {
   "cell_type": "code",
   "execution_count": 46,
   "id": "e12a64f5",
   "metadata": {},
   "outputs": [],
   "source": [
    "y_pred= model.predict(X_test)"
   ]
  },
  {
   "cell_type": "code",
   "execution_count": 47,
   "id": "c443117f",
   "metadata": {},
   "outputs": [
    {
     "data": {
      "text/plain": [
       "array([1, 1, 1, 1, 0, 0, 1, 0, 0, 0, 1, 1, 0, 0, 1, 0, 1, 1, 1, 1, 0, 0,\n",
       "       1, 1, 0, 0, 1, 0, 1, 1, 0, 1, 0, 0, 1, 0, 0, 1, 1, 1, 0, 1, 0, 1,\n",
       "       0, 0, 1, 0, 0, 1, 0, 0, 1, 0, 0, 0, 1, 0, 0, 0, 1, 0, 1, 0, 0, 1,\n",
       "       0, 1, 1, 0, 0, 0, 0, 1, 1, 1, 0, 0, 0, 1, 1, 0, 0, 0, 1, 1, 0, 0,\n",
       "       1, 1, 0, 0, 1, 1, 1, 0, 0, 0, 1, 0, 0, 1, 0, 1, 1, 0, 1, 0, 0, 0,\n",
       "       0, 0, 1, 0, 0, 0, 0, 0, 1, 1, 0, 0, 1, 1, 1, 1, 0, 1, 1, 1, 1, 0,\n",
       "       1, 0, 0, 0, 0, 0, 1, 0, 1, 1, 0, 1, 0, 0, 0, 1, 1, 1, 1, 1, 0, 0,\n",
       "       1, 0, 0, 0, 0, 0, 1, 0, 1, 1, 1, 0, 1, 1, 1, 0, 0, 0, 1, 1, 1, 0,\n",
       "       0, 1, 0, 1, 0, 0, 1, 0, 0, 0, 0, 1, 0, 1, 0, 1, 1, 0, 1, 1, 1, 0,\n",
       "       0, 0, 1, 0, 1, 0, 0, 0, 1], dtype=int64)"
      ]
     },
     "execution_count": 47,
     "metadata": {},
     "output_type": "execute_result"
    }
   ],
   "source": [
    "y_pred"
   ]
  },
  {
   "cell_type": "code",
   "execution_count": 48,
   "id": "da77ec53",
   "metadata": {},
   "outputs": [],
   "source": [
    "from sklearn.metrics import accuracy_score, confusion_matrix"
   ]
  },
  {
   "cell_type": "markdown",
   "id": "8c9f57bc",
   "metadata": {},
   "source": [
    "#### Accuracy_Score"
   ]
  },
  {
   "cell_type": "code",
   "execution_count": 49,
   "id": "cbdaa536",
   "metadata": {},
   "outputs": [
    {
     "data": {
      "text/plain": [
       "0.8502415458937198"
      ]
     },
     "execution_count": 49,
     "metadata": {},
     "output_type": "execute_result"
    }
   ],
   "source": [
    "accuracy_score(y_test, y_pred)"
   ]
  },
  {
   "cell_type": "markdown",
   "id": "3b0489c8",
   "metadata": {},
   "source": [
    "#### Confusion Matrix"
   ]
  },
  {
   "cell_type": "code",
   "execution_count": 50,
   "id": "08c39d00",
   "metadata": {},
   "outputs": [
    {
     "data": {
      "text/plain": [
       "array([[99, 18],\n",
       "       [13, 77]], dtype=int64)"
      ]
     },
     "execution_count": 50,
     "metadata": {},
     "output_type": "execute_result"
    }
   ],
   "source": [
    "confusion_matrix(y_test, y_pred)"
   ]
  },
  {
   "cell_type": "code",
   "execution_count": 51,
   "id": "22c7f5f6",
   "metadata": {},
   "outputs": [
    {
     "data": {
      "text/plain": [
       "(207,)"
      ]
     },
     "execution_count": 51,
     "metadata": {},
     "output_type": "execute_result"
    }
   ],
   "source": [
    "y_pred.shape"
   ]
  },
  {
   "cell_type": "code",
   "execution_count": 52,
   "id": "f59de761",
   "metadata": {},
   "outputs": [
    {
     "data": {
      "text/plain": [
       "176"
      ]
     },
     "execution_count": 52,
     "metadata": {},
     "output_type": "execute_result"
    }
   ],
   "source": [
    "#correct predictions\n",
    "99+77"
   ]
  },
  {
   "cell_type": "code",
   "execution_count": 53,
   "id": "7dca1dc3",
   "metadata": {},
   "outputs": [
    {
     "data": {
      "text/plain": [
       "31"
      ]
     },
     "execution_count": 53,
     "metadata": {},
     "output_type": "execute_result"
    }
   ],
   "source": [
    "#wrong prediction\n",
    "13+18"
   ]
  },
  {
   "cell_type": "code",
   "execution_count": 54,
   "id": "de7a838c",
   "metadata": {},
   "outputs": [
    {
     "data": {
      "text/plain": [
       "[Text(0, 0.5, 'True'), Text(0, 1.5, 'False')]"
      ]
     },
     "execution_count": 54,
     "metadata": {},
     "output_type": "execute_result"
    },
    {
     "data": {
      "image/png": "[encoded data removed]",
      "text/plain": [
       "<Figure size 432x288 with 2 Axes>"
      ]
     },
     "metadata": {
      "needs_background": "light"
     },
     "output_type": "display_data"
    }
   ],
   "source": [
    "cf_random = confusion_matrix(y_test,y_pred)\n",
    "cf_random = sns.heatmap(cf_random, annot=True, cmap='Blues')\n",
    "\n",
    "cf_random.set_title('Logistic Regression')\n",
    "cf_random.set_xlabel('\\nPredict Values')\n",
    "cf_random.set_ylabel('\\nPredict Values')\n",
    "\n",
    "cf_random.xaxis.set_ticklabels(['True','False'])\n",
    "cf_random.yaxis.set_ticklabels(['True','False'])"
   ]
  },
  {
   "cell_type": "code",
   "execution_count": 55,
   "id": "ce089f0b",
   "metadata": {},
   "outputs": [
    {
     "data": {
      "text/plain": [
       "0.8555555555555555"
      ]
     },
     "execution_count": 55,
     "metadata": {},
     "output_type": "execute_result"
    }
   ],
   "source": [
    "recall_score(y_test,y_pred)"
   ]
  },
  {
   "cell_type": "code",
   "execution_count": 56,
   "id": "3c8c196b",
   "metadata": {},
   "outputs": [
    {
     "data": {
      "text/plain": [
       "0.8324324324324324"
      ]
     },
     "execution_count": 56,
     "metadata": {},
     "output_type": "execute_result"
    }
   ],
   "source": [
    "f1_score(y_test, y_pred)"
   ]
  },
  {
   "cell_type": "code",
   "execution_count": 57,
   "id": "ddea315d",
   "metadata": {},
   "outputs": [
    {
     "data": {
      "text/plain": [
       "0.8105263157894737"
      ]
     },
     "execution_count": 57,
     "metadata": {},
     "output_type": "execute_result"
    }
   ],
   "source": [
    "precision_score(y_test, y_pred)"
   ]
  },
  {
   "cell_type": "code",
   "execution_count": 58,
   "id": "f10d87c7",
   "metadata": {},
   "outputs": [
    {
     "name": "stdout",
     "output_type": "stream",
     "text": [
      "              precision    recall  f1-score   support\n",
      "\n",
      "           0       0.88      0.85      0.86       117\n",
      "           1       0.81      0.86      0.83        90\n",
      "\n",
      "    accuracy                           0.85       207\n",
      "   macro avg       0.85      0.85      0.85       207\n",
      "weighted avg       0.85      0.85      0.85       207\n",
      "\n"
     ]
    }
   ],
   "source": [
    "print(classification_report(y_test, y_pred))"
   ]
  },
  {
   "cell_type": "markdown",
   "id": "25f24634",
   "metadata": {},
   "source": [
    "#### Saving the data"
   ]
  },
  {
   "cell_type": "code",
   "execution_count": 59,
   "id": "9c1f059c",
   "metadata": {},
   "outputs": [],
   "source": [
    "import pickle as pkl"
   ]
  },
  {
   "cell_type": "code",
   "execution_count": 60,
   "id": "f3f03ad0",
   "metadata": {},
   "outputs": [],
   "source": [
    "file = open('model.pkl','wb')\n",
    "pkl.dump(model,file)\n",
    "file.close()"
   ]
  },
  {
   "cell_type": "code",
   "execution_count": 61,
   "id": "945f1f3b",
   "metadata": {},
   "outputs": [],
   "source": [
    "file = open('label.pkl','wb')\n",
    "pkl.dump(label,file)\n",
    "file.close()\n",
    "\n",
    "file = open('industry_onehot.pkl','wb')\n",
    "pkl.dump(industry_onehot,file)\n",
    "file.close()"
   ]
  },
  {
   "cell_type": "code",
   "execution_count": 62,
   "id": "ca247545",
   "metadata": {},
   "outputs": [],
   "source": [
    "file = open('minmax.pkl','wb')\n",
    "pkl.dump(minmax,file)\n",
    "file.close()"
   ]
  },
  {
   "cell_type": "code",
   "execution_count": null,
   "id": "e644e0fe",
   "metadata": {},
   "outputs": [],
   "source": []
  },
  {
   "cell_type": "code",
   "execution_count": null,
   "id": "0dde6313",
   "metadata": {},
   "outputs": [],
   "source": []
  }
 ],
 "metadata": {
  "kernelspec": {
   "display_name": "Python 3 (ipykernel)",
   "language": "python",
   "name": "python3"
  },
  "language_info": {
   "codemirror_mode": {
    "name": "ipython",
    "version": 3
   },
   "file_extension": ".py",
   "mimetype": "text/x-python",
   "name": "python",
   "nbconvert_exporter": "python",
   "pygments_lexer": "ipython3",
   "version": "3.9.12"
  }
 },
 "nbformat": 4,
 "nbformat_minor": 5
}
