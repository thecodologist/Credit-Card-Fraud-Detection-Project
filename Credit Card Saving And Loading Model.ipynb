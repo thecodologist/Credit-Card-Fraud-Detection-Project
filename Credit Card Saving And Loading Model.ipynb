{
 "cells": [
  {
   "cell_type": "markdown",
   "id": "a5d323df",
   "metadata": {},
   "source": [
    "#### Loading the data"
   ]
  },
  {
   "cell_type": "code",
   "execution_count": 1,
   "id": "77b3cde5",
   "metadata": {},
   "outputs": [],
   "source": [
    "import pickle as pkl"
   ]
  },
  {
   "cell_type": "code",
   "execution_count": 2,
   "id": "f1b719c1",
   "metadata": {},
   "outputs": [],
   "source": [
    "file = open('model.pkl','rb')\n",
    "model = pkl.load(file)\n",
    "file.close()"
   ]
  },
  {
   "cell_type": "code",
   "execution_count": 3,
   "id": "0fbaac74",
   "metadata": {},
   "outputs": [],
   "source": [
    "file = open('label.pkl','rb')\n",
    "label = pkl.load(file)\n",
    "file.close()\n",
    "\n",
    "file = open('industry_onehot.pkl','rb')\n",
    "industry_onehot = pkl.load(file)\n",
    "file.close()\n",
    "\n",
    "file = open('minmax.pkl','rb')\n",
    "minmax = pkl.load(file)\n",
    "file.close()"
   ]
  },
  {
   "cell_type": "markdown",
   "id": "3c0551ad",
   "metadata": {},
   "source": [
    "#### Inserting random values for testing purpose"
   ]
  },
  {
   "cell_type": "code",
   "execution_count": 4,
   "id": "4908eeb1",
   "metadata": {},
   "outputs": [],
   "source": [
    "Gender = 1\n",
    "Age = 30\n",
    "Debt = 5\n",
    "Married = 1\n",
    "BankCustomer = 1\n",
    "Industry = 'Industrials'\n",
    "YearsEmployed = 3\n",
    "PriorDefault = 1\n",
    "Employed = 0\n",
    "CreditScore = 5\n",
    "DriversLicense = 0\n",
    "Income = 500\n",
    "Approved = 1"
   ]
  },
  {
   "cell_type": "code",
   "execution_count": 5,
   "id": "f7595696",
   "metadata": {},
   "outputs": [],
   "source": [
    "Industry = industry_onehot.transform([label.transform([Industry])]).toarray()"
   ]
  },
  {
   "cell_type": "code",
   "execution_count": 6,
   "id": "b9f2993e",
   "metadata": {},
   "outputs": [
    {
     "data": {
      "text/plain": [
       "array([[0., 0., 0., 0., 0., 0., 0., 1., 0., 0., 0., 0., 0., 0.]])"
      ]
     },
     "execution_count": 6,
     "metadata": {},
     "output_type": "execute_result"
    }
   ],
   "source": [
    "Industry"
   ]
  },
  {
   "cell_type": "code",
   "execution_count": 7,
   "id": "a15d0e0e",
   "metadata": {},
   "outputs": [],
   "source": [
    "import numpy as np"
   ]
  },
  {
   "cell_type": "code",
   "execution_count": 8,
   "id": "a51f7520",
   "metadata": {},
   "outputs": [],
   "source": [
    "test_data = np.array([[Gender,Age,Debt,Married,BankCustomer,YearsEmployed,PriorDefault,Employed,CreditScore,DriversLicense,Income]])"
   ]
  },
  {
   "cell_type": "code",
   "execution_count": 9,
   "id": "ec1dd01d",
   "metadata": {},
   "outputs": [
    {
     "data": {
      "text/plain": [
       "array([[  1,  30,   5,   1,   1,   3,   1,   0,   5,   0, 500]])"
      ]
     },
     "execution_count": 9,
     "metadata": {},
     "output_type": "execute_result"
    }
   ],
   "source": [
    "test_data"
   ]
  },
  {
   "cell_type": "code",
   "execution_count": 10,
   "id": "d04fa6d7",
   "metadata": {},
   "outputs": [],
   "source": [
    "test_X = np.c_[test_data,Industry]"
   ]
  },
  {
   "cell_type": "code",
   "execution_count": 11,
   "id": "315c537e",
   "metadata": {},
   "outputs": [
    {
     "data": {
      "text/plain": [
       "array([[  1.,  30.,   5.,   1.,   1.,   3.,   1.,   0.,   5.,   0., 500.,\n",
       "          0.,   0.,   0.,   0.,   0.,   0.,   0.,   1.,   0.,   0.,   0.,\n",
       "          0.,   0.,   0.]])"
      ]
     },
     "execution_count": 11,
     "metadata": {},
     "output_type": "execute_result"
    }
   ],
   "source": [
    "test_X"
   ]
  },
  {
   "cell_type": "code",
   "execution_count": 12,
   "id": "13d26916",
   "metadata": {},
   "outputs": [],
   "source": [
    "test_X = minmax.transform(test_X)"
   ]
  },
  {
   "cell_type": "code",
   "execution_count": 13,
   "id": "e544f084",
   "metadata": {},
   "outputs": [
    {
     "data": {
      "text/plain": [
       "array([1], dtype=int64)"
      ]
     },
     "execution_count": 13,
     "metadata": {},
     "output_type": "execute_result"
    }
   ],
   "source": [
    "model.predict(test_X)"
   ]
  },
  {
   "cell_type": "code",
   "execution_count": null,
   "id": "76aed0ef",
   "metadata": {},
   "outputs": [],
   "source": []
  },
  {
   "cell_type": "code",
   "execution_count": null,
   "id": "6e424114",
   "metadata": {},
   "outputs": [],
   "source": []
  }
 ],
 "metadata": {
  "kernelspec": {
   "display_name": "Python 3 (ipykernel)",
   "language": "python",
   "name": "python3"
  },
  "language_info": {
   "codemirror_mode": {
    "name": "ipython",
    "version": 3
   },
   "file_extension": ".py",
   "mimetype": "text/x-python",
   "name": "python",
   "nbconvert_exporter": "python",
   "pygments_lexer": "ipython3",
   "version": "3.9.12"
  }
 },
 "nbformat": 4,
 "nbformat_minor": 5
}
